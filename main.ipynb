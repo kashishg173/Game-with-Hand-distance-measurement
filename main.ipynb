{
 "cells": [
  {
   "cell_type": "code",
   "execution_count": 9,
   "id": "110c5c2f-27f3-4294-bcd5-70eb69fa7799",
   "metadata": {},
   "outputs": [],
   "source": [
    "import math\n",
    "import numpy as np\n",
    "import cv2 as cv\n",
    "from cvzone.HandTrackingModule  import HandDetector\n",
    "import warnings\n",
    "warnings.filterwarnings(\"ignore\")\n",
    "import cvzone\n",
    "import random\n",
    "import time"
   ]
  },
  {
   "cell_type": "code",
   "execution_count": 4,
   "id": "dcd42bbc-f12a-4037-88ce-4ac9388c6055",
   "metadata": {},
   "outputs": [],
   "source": [
    "import matplotlib.pyplot as plt"
   ]
  },
  {
   "cell_type": "code",
   "execution_count": 5,
   "id": "a5059e44-5159-4c29-a485-1848e69c75f5",
   "metadata": {},
   "outputs": [
    {
     "data": {
      "text/plain": [
       "[<matplotlib.lines.Line2D at 0x15305a53200>]"
      ]
     },
     "execution_count": 5,
     "metadata": {},
     "output_type": "execute_result"
    },
    {
     "data": {
      "image/png": "[encoded data removed]",
      "text/plain": [
       "<Figure size 640x480 with 1 Axes>"
      ]
     },
     "metadata": {},
     "output_type": "display_data"
    }
   ],
   "source": [
    "x = [300, 245, 200, 170, 145, 130, 112, 103, 93, 87, 80, 75, 70, 67, 62, 59, 57]\n",
    "y = [20, 25, 30, 35, 40, 45, 50, 55, 60, 65, 70, 75, 80, 85, 90, 95, 100]\n",
    "\n",
    "plt.plot(x, y)\n",
    "\n",
    "# x- Actual Distance\n",
    "# y- Distance in cm"
   ]
  },
  {
   "cell_type": "code",
   "execution_count": 16,
   "id": "5975c481-5332-44e7-bee9-f0b87734be1c",
   "metadata": {},
   "outputs": [],
   "source": [
    "cam = cv.VideoCapture(0)\n",
    "cam.set(3, 1280)\n",
    "cam.set(4, 720)\n",
    "detector = HandDetector(detectionCon = 0.8, maxHands = 1)\n",
    "\n",
    "x = [300, 245, 200, 170, 145, 130, 112, 103, 93, 87, 80, 75, 70, 67, 62, 59, 57]\n",
    "y = [20, 25, 30, 35, 40, 45, 50, 55, 60, 65, 70, 75, 80, 85, 90, 95, 100]\n",
    "coff = np.polyfit(x, y, 2)\n",
    "\n",
    "bx, by = 250, 250\n",
    "color = (0, 0, 0)\n",
    "counter = 0\n",
    "score = 20\n",
    "timestart = time.time()\n",
    "totalTime = 2\n",
    "while True:\n",
    "    _, img = cam.read()\n",
    "    img = cv.flip(img, 1)\n",
    "\n",
    "    if time.time() - timestart < totalTime:\n",
    "        \n",
    "        hands, img = detector.findHands(img, draw=False)\n",
    "        if hands:    # Finding width of hand by knowing the distance between points 5, 13. Visit MediaPipe site for more info \n",
    "            lmlist = hands[0][\"lmList\"]\n",
    "            x, y, w, h = hands[0]['bbox']\n",
    "            x1, y1 = lmlist[5][:2]\n",
    "            x2, y2 = lmlist[17][:2]\n",
    "            distance = math.sqrt((y2-y1)**2 + (x2-x1)**2)\n",
    "            a, b, c = coff\n",
    "            distancecm = a*distance**2 + b*distance + c\n",
    "    \n",
    "            if distancecm < 40:\n",
    "                if x < bx < x+w and y < by < y+h:\n",
    "                    counter = 1\n",
    "                    \n",
    "    \n",
    "            \n",
    "           \n",
    "            cv.rectangle(img, (x,y), (x+w, y+h), (255, 0, 255), 3)\n",
    "            cvzone.putTextRect(img, f'{int(distance)} cm', (x+5,y-10))\n",
    "    \n",
    "        if counter:\n",
    "            counter +=1\n",
    "            color = (0, 255, 0)\n",
    "            if counter == 5:\n",
    "                bx = random.randint(100, 1100)\n",
    "                by = random.randint(100, 600)\n",
    "                color = (0,0,0)\n",
    "                counter = 0\n",
    "                score += 1\n",
    "                \n",
    "    \n",
    "        # Button\n",
    "        cv.circle(img, (bx, by), 30, color, cv.FILLED)\n",
    "        cv.circle(img, (bx, by), 10, (255, 255, 255), cv.FILLED)\n",
    "        cv.circle(img, (bx, by), 20, (255, 255, 255), 2)\n",
    "        cv.circle(img, (bx, by), 30, (255, 255, 255 ), 2)\n",
    "    \n",
    "        cvzone.putTextRect(img, f\"Time: {int(totalTime - (time.time()- timestart))} secs\", (850, 75), scale = 3, offset = 20)\n",
    "        cvzone.putTextRect(img, f\"Score: {str(score).zfill(2)}\", (60, 75), scale = 3, offset = 20)\n",
    "    else:\n",
    "        cvzone.putTextRect(img, \"Game Over\", (400, 400), scale = 5, offset = 30, thickness = 7)\n",
    "        cvzone.putTextRect(img, f\"Your Score: {score}\", (450, 500), scale = 3, offset = 20)\n",
    "        cvzone.putTextRect(img, \"Press R to restart\", (460, 575), scale = 2, offset = 10)\n",
    "        \n",
    "    cv.imshow(\"Frame\", img)\n",
    "\n",
    "    key = cv.waitKey(10)\n",
    "    if key == ord('r'):\n",
    "        timestart = time.time()\n",
    "        score = 0\n",
    "        \n",
    "    if key == 27:\n",
    "        cam.release()\n",
    "        cv.destroyAllWindows()\n",
    "        break"
   ]
  },
  {
   "cell_type": "code",
   "execution_count": 11,
   "id": "db887966-331e-4816-8374-69a0cea5bf67",
   "metadata": {},
   "outputs": [],
   "source": [
    "cam.release()"
   ]
  },
  {
   "cell_type": "code",
   "execution_count": null,
   "id": "816ee166-bcd3-40f8-8270-14ecd97f4a67",
   "metadata": {},
   "outputs": [],
   "source": []
  }
 ],
 "metadata": {
  "kernelspec": {
   "display_name": "Python 3 (ipykernel)",
   "language": "python",
   "name": "python3"
  },
  "language_info": {
   "codemirror_mode": {
    "name": "ipython",
    "version": 3
   },
   "file_extension": ".py",
   "mimetype": "text/x-python",
   "name": "python",
   "nbconvert_exporter": "python",
   "pygments_lexer": "ipython3",
   "version": "3.12.3"
  }
 },
 "nbformat": 4,
 "nbformat_minor": 5
}
